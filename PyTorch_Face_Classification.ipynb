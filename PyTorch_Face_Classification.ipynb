{
  "nbformat": 4,
  "nbformat_minor": 0,
  "metadata": {
    "colab": {
      "name": "PyTorch-Face-Classification.ipynb",
      "version": "0.3.2",
      "views": {},
      "default_view": {},
      "provenance": [],
      "collapsed_sections": []
    },
    "kernelspec": {
      "name": "python3",
      "display_name": "Python 3"
    }
  },
  "cells": [
    {
      "metadata": {
        "id": "qCFAzD2UvJ13",
        "colab_type": "code",
        "colab": {
          "autoexec": {
            "startup": false,
            "wait_interval": 0
          }
        }
      },
      "cell_type": "code",
      "source": [
        "# http://pytorch.org/\n",
        "from os import path\n",
        "from wheel.pep425tags import get_abbr_impl, get_impl_ver, get_abi_tag\n",
        "platform = '{}{}-{}'.format(get_abbr_impl(), get_impl_ver(), get_abi_tag())\n",
        "accelerator = 'cu80' if path.exists('/opt/bin/nvidia-smi') else 'cpu'\n",
        "!pip install -q http://download.pytorch.org/whl/{accelerator}/torch-0.3.0.post4-{platform}-linux_x86_64.whl torchvision\n",
        "\n",
        "!pip install --no-cache-dir -I pillow\n",
        "!wget https://www.dropbox.com/s/zxedrp2ar549v84/FDDB.tar.gz?dl=0"
      ],
      "execution_count": 0,
      "outputs": []
    },
    {
      "metadata": {
        "id": "X4iAcoaqzQwq",
        "colab_type": "code",
        "colab": {
          "autoexec": {
            "startup": false,
            "wait_interval": 0
          }
        }
      },
      "cell_type": "code",
      "source": [
        "!ls"
      ],
      "execution_count": 0,
      "outputs": []
    },
    {
      "metadata": {
        "id": "HZZ6m27AvE1s",
        "colab_type": "code",
        "colab": {
          "autoexec": {
            "startup": false,
            "wait_interval": 0
          }
        }
      },
      "cell_type": "code",
      "source": [
        "! tar -xf FDDB.tar.gz\\?dl\\=0"
      ],
      "execution_count": 0,
      "outputs": []
    },
    {
      "metadata": {
        "id": "mr6GgnnivVlA",
        "colab_type": "code",
        "colab": {
          "autoexec": {
            "startup": false,
            "wait_interval": 0
          }
        }
      },
      "cell_type": "code",
      "source": [
        ""
      ],
      "execution_count": 0,
      "outputs": []
    },
    {
      "metadata": {
        "id": "HX8JponlvVzo",
        "colab_type": "code",
        "colab": {
          "autoexec": {
            "startup": false,
            "wait_interval": 0
          }
        }
      },
      "cell_type": "code",
      "source": [
        "import torch\n",
        "import torch.nn as nn\n",
        "from torch.autograd import Variable\n",
        "from torch.utils.data import Dataset, DataLoader\n",
        "import torchvision.transforms as transforms\n",
        "import torchvision.datasets as dsets\n",
        "\n",
        "from PIL import Image\n",
        "from sklearn.model_selection import train_test_split\n",
        "import pickle\n",
        "import numpy as np\n",
        "from matplotlib import pyplot as plt\n",
        "%matplotlib inline"
      ],
      "execution_count": 0,
      "outputs": []
    },
    {
      "metadata": {
        "id": "Et67qpjNvWCg",
        "colab_type": "code",
        "colab": {
          "autoexec": {
            "startup": false,
            "wait_interval": 0
          },
          "base_uri": "https://localhost:8080/",
          "height": 221
        },
        "outputId": "9af7656c-604d-43ff-ee19-7b4ac6861ad2",
        "executionInfo": {
          "status": "ok",
          "timestamp": 1530391509058,
          "user_tz": 240,
          "elapsed": 10342,
          "user": {
            "displayName": "Suraj Maniyar",
            "photoUrl": "https://lh3.googleusercontent.com/a/default-user=s128",
            "userId": "101597000428907139731"
          }
        }
      },
      "cell_type": "code",
      "source": [
        "# Change this path to your FDDB Dataset path\n",
        "FDDB_path = 'FDDB'\n",
        "\n",
        "annotation_folder = FDDB_path+'/FDDB-folds/'\n",
        "data_folder = FDDB_path+'/originalPics/'\n",
        "\n",
        "X_train = []\n",
        "Y_train = []\n",
        "img_size = 100\n",
        "max_count = 50\n",
        "\n",
        "def get_coords(line):\n",
        "    line = line.replace('\\n','')   \n",
        "    line = line.split(' ')\n",
        "    line.remove('')\n",
        "    line = [float(i) for i in line]    \n",
        "    [major_axis_radius, minor_axis_radius, angle, center_x, center_y, _] = line\n",
        "\n",
        "    # The FDDB dataset gives the face annotation in the form of an ellipse.\n",
        "    # We take it's end points and consider it as a rectangle \n",
        "    x = int(center_x - minor_axis_radius)\n",
        "    y = int(center_y - major_axis_radius)\n",
        "    w = int(2*minor_axis_radius)\n",
        "    h = int(2*major_axis_radius)\n",
        "    \n",
        "    return [x, y, w, h]\n",
        "\n",
        "\n",
        "for index in range(1, 11):\n",
        "    print(\"index = \", index)\n",
        "    file_name = 'FDDB-fold-'+str(index).zfill(2)+'-ellipseList.txt'\n",
        "    file_path = FDDB_path+'/FDDB-folds/'+file_name\n",
        "    fp = open(file_path, 'r')\n",
        "    lines = fp.readlines()\n",
        "    count = 0\n",
        "    for i in range (len(lines)):\n",
        "        line = lines[i].replace('\\n','')\n",
        "        \n",
        "        # Images which have only one face\n",
        "        if(line == '1'):\n",
        "            image_path = lines[i-1].replace('\\n','')+'.jpg'\n",
        "            image_path = data_folder+image_path\n",
        "            line_coords = lines[i+1]\n",
        "            [x,y,w,h] = get_coords(line_coords)\n",
        "            img = Image.open(image_path)\n",
        "            [W, H] = img.size\n",
        "            \n",
        "            img_face = img.crop((x,y,x+w,y+h))\n",
        "\n",
        "            # crop face image\n",
        "            # crop random area from original image not contatining any face              \n",
        "            img_nonface = img.crop((x+w, y+h, W, H))\n",
        "            \n",
        "            img_face = img_face.resize((img_size,img_size))\n",
        "            img_nonface = img_nonface.resize((img_size,img_size))\n",
        "            \n",
        "            img_face = np.array(img_face).astype('float32')\n",
        "            img_nonface = np.array(img_nonface).astype('float32')\n",
        "            \n",
        "            # Check is the image is RGB\n",
        "            if( (img_face.shape == (img_size,img_size, 3)) and ((img_nonface.shape == (img_size,img_size, 3))) and (count != max_count) ):\n",
        "                X_train.append(img_face)\n",
        "                Y_train.append(0)\n",
        "                X_train.append(img_nonface) \n",
        "                Y_train.append(1)\n",
        "                count += 1\n",
        "               \n",
        "               \n",
        "X_train = np.array(X_train)\n",
        "Y_train = np.array(Y_train)\n",
        "\n",
        "#X_train = X_train[:,:,:,np.newaxis]\n",
        "\n",
        "\n",
        "X_train, X_CV, Y_train, Y_CV = train_test_split(X_train, Y_train, test_size=0.20, random_state=42)  \n",
        "\n",
        "\n",
        "\n",
        "print(X_train.shape, Y_train.shape)\n",
        "print(X_CV.shape, Y_CV.shape)\n"
      ],
      "execution_count": 2,
      "outputs": [
        {
          "output_type": "stream",
          "text": [
            "index =  1\n",
            "index =  2\n",
            "index =  3\n",
            "index =  4\n",
            "index =  5\n",
            "index =  6\n",
            "index =  7\n",
            "index =  8\n",
            "index =  9\n",
            "index =  10\n",
            "(800, 100, 100, 3) (800,)\n",
            "(200, 100, 100, 3) (200,)\n"
          ],
          "name": "stdout"
        }
      ]
    },
    {
      "metadata": {
        "id": "Rhtym4r6vWUg",
        "colab_type": "code",
        "colab": {
          "autoexec": {
            "startup": false,
            "wait_interval": 0
          },
          "base_uri": "https://localhost:8080/",
          "height": 51
        },
        "outputId": "a9a808a1-1a88-4de8-fbe2-0d4b023d6ae7",
        "executionInfo": {
          "status": "ok",
          "timestamp": 1530391509419,
          "user_tz": 240,
          "elapsed": 306,
          "user": {
            "displayName": "Suraj Maniyar",
            "photoUrl": "https://lh3.googleusercontent.com/a/default-user=s128",
            "userId": "101597000428907139731"
          }
        }
      },
      "cell_type": "code",
      "source": [
        "X_train = np.moveaxis(X_train, 3, 1)\n",
        "X_CV = np.moveaxis(X_CV, 3, 1)\n",
        "print(X_train.shape, Y_train.shape)\n",
        "print(X_CV.shape, Y_CV.shape)"
      ],
      "execution_count": 3,
      "outputs": [
        {
          "output_type": "stream",
          "text": [
            "(800, 3, 100, 100) (800,)\n",
            "(200, 3, 100, 100) (200,)\n"
          ],
          "name": "stdout"
        }
      ]
    },
    {
      "metadata": {
        "id": "5etcztEjwt8Y",
        "colab_type": "code",
        "colab": {
          "autoexec": {
            "startup": false,
            "wait_interval": 0
          }
        }
      },
      "cell_type": "code",
      "source": [
        "class MyDataset(Dataset):\n",
        "    def __init__(self, X, Y, transform=None):\n",
        "        self.X = X\n",
        "        self.Y = Y \n",
        "        self.transform = transform\n",
        "        \n",
        "    def __len__(self):\n",
        "        return self.X.shape[0]\n",
        "    \n",
        "    def __getitem__(self, index):\n",
        "        return (self.X[index], self.Y[index])"
      ],
      "execution_count": 0,
      "outputs": []
    },
    {
      "metadata": {
        "id": "58V6balH17EZ",
        "colab_type": "code",
        "colab": {
          "autoexec": {
            "startup": false,
            "wait_interval": 0
          }
        }
      },
      "cell_type": "code",
      "source": [
        "train_dataset = MyDataset(X_train, Y_train)\n",
        "test_dataset = MyDataset(X_CV, Y_CV)"
      ],
      "execution_count": 0,
      "outputs": []
    },
    {
      "metadata": {
        "id": "_LYsuhib19JS",
        "colab_type": "code",
        "colab": {
          "autoexec": {
            "startup": false,
            "wait_interval": 0
          }
        }
      },
      "cell_type": "code",
      "source": [
        "batch_size = 64\n",
        "epochs = 10\n",
        "\n",
        "train_loader = torch.utils.data.DataLoader(dataset = train_dataset, \n",
        "                                           batch_size = batch_size, \n",
        "                                           shuffle = True)\n",
        "\n",
        "test_loader = torch.utils.data.DataLoader(dataset = test_dataset, \n",
        "                                          batch_size = batch_size, \n",
        "                                          shuffle = False)"
      ],
      "execution_count": 0,
      "outputs": []
    },
    {
      "metadata": {
        "id": "NegSg-yA2To8",
        "colab_type": "code",
        "colab": {
          "autoexec": {
            "startup": false,
            "wait_interval": 0
          }
        }
      },
      "cell_type": "code",
      "source": [
        "class CNNModel(nn.Module):\n",
        "    def __init__(self):\n",
        "        super(CNNModel, self).__init__()\n",
        "        \n",
        "        self.cnn1 = nn.Conv2d(in_channels=3, out_channels=16, kernel_size=5, stride=1, padding=2)\n",
        "        self.relu1 = nn.ReLU()\n",
        "        self.maxpool1 = nn.MaxPool2d(kernel_size=2)\n",
        "        \n",
        "        self.cnn2 = nn.Conv2d(in_channels=16, out_channels=32, kernel_size=5, stride=1, padding=2)\n",
        "        self.relu2 = nn.ReLU()\n",
        "        self.maxpool2 = nn.MaxPool2d(kernel_size=2)\n",
        "       \n",
        "        \n",
        "        self.fc1 = nn.Linear(32 * 25 * 25, 64)\n",
        "        self.act1 = nn.ReLU()\n",
        "        \n",
        "        self.fc2 = nn.Linear(64, 2)\n",
        "        \n",
        "        \n",
        "    def forward(self, x):\n",
        "        out = self.cnn1(x)\n",
        "        out = self.relu1(out)\n",
        "        out = self.maxpool1(out)\n",
        "        out = self.cnn2(out)\n",
        "        out = self.relu2(out)\n",
        "        out = self.maxpool2(out)\n",
        "        \n",
        "        out = out.view(out.size(0), -1)\n",
        "        \n",
        "        out = self.fc1(out)\n",
        "        out = self.act1(out)\n",
        "        out = self.fc2(out)\n",
        "        \n",
        "        return out"
      ],
      "execution_count": 0,
      "outputs": []
    },
    {
      "metadata": {
        "id": "jc12D40j2azW",
        "colab_type": "code",
        "colab": {
          "autoexec": {
            "startup": false,
            "wait_interval": 0
          }
        }
      },
      "cell_type": "code",
      "source": [
        "model = CNNModel()"
      ],
      "execution_count": 0,
      "outputs": []
    },
    {
      "metadata": {
        "id": "Ldkz3jBY2cA8",
        "colab_type": "code",
        "colab": {
          "autoexec": {
            "startup": false,
            "wait_interval": 0
          }
        }
      },
      "cell_type": "code",
      "source": [
        "criterion = nn.CrossEntropyLoss()"
      ],
      "execution_count": 0,
      "outputs": []
    },
    {
      "metadata": {
        "id": "cRQ59q4c2dUY",
        "colab_type": "code",
        "colab": {
          "autoexec": {
            "startup": false,
            "wait_interval": 0
          }
        }
      },
      "cell_type": "code",
      "source": [
        "learning_rate = 0.0001\n",
        "optimizer = torch.optim.SGD(model.parameters(), lr=learning_rate)"
      ],
      "execution_count": 0,
      "outputs": []
    },
    {
      "metadata": {
        "id": "gs-mAsIH2efe",
        "colab_type": "code",
        "colab": {
          "autoexec": {
            "startup": false,
            "wait_interval": 0
          },
          "base_uri": "https://localhost:8080/",
          "height": 204
        },
        "outputId": "b3b4e239-2776-4492-9038-ff0bfb9f25eb",
        "executionInfo": {
          "status": "ok",
          "timestamp": 1530391519284,
          "user_tz": 240,
          "elapsed": 288,
          "user": {
            "displayName": "Suraj Maniyar",
            "photoUrl": "https://lh3.googleusercontent.com/a/default-user=s128",
            "userId": "101597000428907139731"
          }
        }
      },
      "cell_type": "code",
      "source": [
        "print(model)"
      ],
      "execution_count": 11,
      "outputs": [
        {
          "output_type": "stream",
          "text": [
            "CNNModel(\n",
            "  (cnn1): Conv2d (3, 16, kernel_size=(5, 5), stride=(1, 1), padding=(2, 2))\n",
            "  (relu1): ReLU()\n",
            "  (maxpool1): MaxPool2d(kernel_size=(2, 2), stride=(2, 2), dilation=(1, 1))\n",
            "  (cnn2): Conv2d (16, 32, kernel_size=(5, 5), stride=(1, 1), padding=(2, 2))\n",
            "  (relu2): ReLU()\n",
            "  (maxpool2): MaxPool2d(kernel_size=(2, 2), stride=(2, 2), dilation=(1, 1))\n",
            "  (fc1): Linear(in_features=20000, out_features=64)\n",
            "  (act1): ReLU()\n",
            "  (fc2): Linear(in_features=64, out_features=2)\n",
            ")\n"
          ],
          "name": "stdout"
        }
      ]
    },
    {
      "metadata": {
        "id": "x6aMeKUr2f0Y",
        "colab_type": "code",
        "colab": {
          "autoexec": {
            "startup": false,
            "wait_interval": 0
          },
          "base_uri": "https://localhost:8080/",
          "height": 34
        },
        "outputId": "725f9320-29a0-44e4-cba6-b65bb4d7c00a",
        "executionInfo": {
          "status": "ok",
          "timestamp": 1530391519823,
          "user_tz": 240,
          "elapsed": 369,
          "user": {
            "displayName": "Suraj Maniyar",
            "photoUrl": "https://lh3.googleusercontent.com/a/default-user=s128",
            "userId": "101597000428907139731"
          }
        }
      },
      "cell_type": "code",
      "source": [
        "print(len(list(model.parameters())))"
      ],
      "execution_count": 12,
      "outputs": [
        {
          "output_type": "stream",
          "text": [
            "8\n"
          ],
          "name": "stdout"
        }
      ]
    },
    {
      "metadata": {
        "id": "C76F3Orl2iZU",
        "colab_type": "code",
        "colab": {
          "autoexec": {
            "startup": false,
            "wait_interval": 0
          },
          "base_uri": "https://localhost:8080/",
          "height": 153
        },
        "outputId": "5c85bcaa-996b-4e5d-ec3b-45610f4d0398",
        "executionInfo": {
          "status": "ok",
          "timestamp": 1530391520425,
          "user_tz": 240,
          "elapsed": 322,
          "user": {
            "displayName": "Suraj Maniyar",
            "photoUrl": "https://lh3.googleusercontent.com/a/default-user=s128",
            "userId": "101597000428907139731"
          }
        }
      },
      "cell_type": "code",
      "source": [
        "for i in range(len(list(model.parameters()))):\n",
        "    print(list(model.parameters())[i].size())"
      ],
      "execution_count": 13,
      "outputs": [
        {
          "output_type": "stream",
          "text": [
            "torch.Size([16, 3, 5, 5])\n",
            "torch.Size([16])\n",
            "torch.Size([32, 16, 5, 5])\n",
            "torch.Size([32])\n",
            "torch.Size([64, 20000])\n",
            "torch.Size([64])\n",
            "torch.Size([2, 64])\n",
            "torch.Size([2])\n"
          ],
          "name": "stdout"
        }
      ]
    },
    {
      "metadata": {
        "id": "0cNes0IA2mAn",
        "colab_type": "code",
        "colab": {
          "autoexec": {
            "startup": false,
            "wait_interval": 0
          },
          "base_uri": "https://localhost:8080/",
          "height": 187
        },
        "outputId": "5a395973-e65e-4fdc-b03b-47290ccbe6a4",
        "executionInfo": {
          "status": "ok",
          "timestamp": 1530391767371,
          "user_tz": 240,
          "elapsed": 120467,
          "user": {
            "displayName": "Suraj Maniyar",
            "photoUrl": "https://lh3.googleusercontent.com/a/default-user=s128",
            "userId": "101597000428907139731"
          }
        }
      },
      "cell_type": "code",
      "source": [
        "for epoch in range(epochs):\n",
        "    epoch += 1\n",
        "    for i,(images, labels) in enumerate(train_loader):\n",
        "        images = Variable(images)\n",
        "        labels = Variable(labels)\n",
        "        optimizer.zero_grad()\n",
        "        outputs = model(images)\n",
        "        loss = criterion(outputs, labels)\n",
        "        loss.backward()\n",
        "        optimizer.step()    \n",
        "    total = 0\n",
        "    correct = 0\n",
        "    \n",
        "    for images, labels in test_loader:\n",
        "        images = Variable(images)\n",
        "        outputs = model(images)\n",
        "        _, predicted = torch.max(outputs.data, 1)\n",
        "        total += labels.size(0)\n",
        "        correct += (labels == predicted).sum()\n",
        "    accuracy = 100.0 * correct / total\n",
        "    print('Epoch: {} Loss: {} Accuracy: {}'.format(epoch, loss.data[0], accuracy))\n",
        "    "
      ],
      "execution_count": 15,
      "outputs": [
        {
          "output_type": "stream",
          "text": [
            "Epoch: 1 Loss: 0.18475979566574097 Accuracy: 93.0\n",
            "Epoch: 2 Loss: 0.3373740315437317 Accuracy: 94.0\n",
            "Epoch: 3 Loss: 0.203416645526886 Accuracy: 90.5\n",
            "Epoch: 4 Loss: 0.16922907531261444 Accuracy: 93.5\n",
            "Epoch: 5 Loss: 0.16625669598579407 Accuracy: 94.0\n",
            "Epoch: 6 Loss: 0.1356663852930069 Accuracy: 93.0\n",
            "Epoch: 7 Loss: 0.17945149540901184 Accuracy: 92.5\n",
            "Epoch: 8 Loss: 0.11183133721351624 Accuracy: 91.0\n",
            "Epoch: 9 Loss: 0.4622647166252136 Accuracy: 94.0\n",
            "Epoch: 10 Loss: 0.205274298787117 Accuracy: 93.5\n"
          ],
          "name": "stdout"
        }
      ]
    },
    {
      "metadata": {
        "id": "-9UiDtaU2_O3",
        "colab_type": "code",
        "colab": {
          "autoexec": {
            "startup": false,
            "wait_interval": 0
          }
        }
      },
      "cell_type": "code",
      "source": [
        ""
      ],
      "execution_count": 0,
      "outputs": []
    },
    {
      "metadata": {
        "id": "OrfiajwxaNAl",
        "colab_type": "code",
        "colab": {
          "autoexec": {
            "startup": false,
            "wait_interval": 0
          }
        }
      },
      "cell_type": "code",
      "source": [
        ""
      ],
      "execution_count": 0,
      "outputs": []
    },
    {
      "metadata": {
        "id": "IRGEXBl-aP0m",
        "colab_type": "code",
        "colab": {
          "autoexec": {
            "startup": false,
            "wait_interval": 0
          }
        }
      },
      "cell_type": "code",
      "source": [
        ""
      ],
      "execution_count": 0,
      "outputs": []
    },
    {
      "metadata": {
        "id": "8MngMjjcaRNr",
        "colab_type": "code",
        "colab": {
          "autoexec": {
            "startup": false,
            "wait_interval": 0
          }
        }
      },
      "cell_type": "code",
      "source": [
        ""
      ],
      "execution_count": 0,
      "outputs": []
    },
    {
      "metadata": {
        "id": "uuIyVI4RaTF4",
        "colab_type": "code",
        "colab": {
          "autoexec": {
            "startup": false,
            "wait_interval": 0
          }
        }
      },
      "cell_type": "code",
      "source": [
        ""
      ],
      "execution_count": 0,
      "outputs": []
    }
  ]
}